{
 "cells": [
  {
   "cell_type": "code",
   "execution_count": null,
   "id": "53f75179-9773-41bf-9dfd-6eda25acb813",
   "metadata": {},
   "outputs": [],
   "source": []
  }
 ],
 "metadata": {
  "kernelspec": {
   "display_name": "",
   "name": ""
  },
  "language_info": {
   "name": ""
  }
 },
 "nbformat": 4,
 "nbformat_minor": 5
}
